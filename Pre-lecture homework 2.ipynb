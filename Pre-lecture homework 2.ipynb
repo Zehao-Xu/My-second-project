{
 "cells": [
  {
   "cell_type": "code",
   "execution_count": 24,
   "id": "0ade10e8",
   "metadata": {},
   "outputs": [
    {
     "data": {
      "text/plain": [
       "0.66552"
      ]
     },
     "execution_count": 24,
     "metadata": {},
     "output_type": "execute_result"
    }
   ],
   "source": [
    "import numpy as np\n",
    "doors = (1,2,3)#tuple\n",
    "player_choice = 1\n",
    "wins = 0\n",
    "reps = 100000\n",
    "for i in range(reps):\n",
    "    winning_door = np.random.choice (doors)#Randomly select the winning door\n",
    "    doors_list = list(doors)\n",
    "    doors_list.remove(winning_door)#Prevents it from displaying a goat door\n",
    "    try:\n",
    "        doors_list.remove(player_choice)#Remove player's choice if it was a winning door\n",
    "    except:\n",
    "        pass\n",
    "    host_reveal = np.random.choice(doors_list)\n",
    "    doors_list.remove(host_reveal)#Remove the revealed goat door\n",
    "    if winning_door != player_choice:\n",
    "        doors_list.append(winning_door)\n",
    "    player_choice = doors_list[0]\n",
    "    if player_choice == winning_door:\n",
    "        wins += 1\n",
    "        \n",
    "wins/reps"
   ]
  },
  {
   "cell_type": "code",
   "execution_count": null,
   "id": "9173b638",
   "metadata": {},
   "outputs": [],
   "source": []
  }
 ],
 "metadata": {
  "kernelspec": {
   "display_name": "Python 3 (ipykernel)",
   "language": "python",
   "name": "python3"
  },
  "language_info": {
   "codemirror_mode": {
    "name": "ipython",
    "version": 3
   },
   "file_extension": ".py",
   "mimetype": "text/x-python",
   "name": "python",
   "nbconvert_exporter": "python",
   "pygments_lexer": "ipython3",
   "version": "3.11.6"
  }
 },
 "nbformat": 4,
 "nbformat_minor": 5
}
